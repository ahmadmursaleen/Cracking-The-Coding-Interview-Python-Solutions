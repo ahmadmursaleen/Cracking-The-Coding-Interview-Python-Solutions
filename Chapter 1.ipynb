{
 "cells": [
  {
   "cell_type": "markdown",
   "metadata": {},
   "source": [
    "# 1.1 Implement an algorithm to find out if all the characters in a string are unique or not ?\n"
   ]
  },
  {
   "cell_type": "markdown",
   "metadata": {},
   "source": [
    "## Lets us assume that the string is in ASCII characters i.e. 128 charcters "
   ]
  },
  {
   "cell_type": "code",
   "execution_count": 19,
   "metadata": {},
   "outputs": [],
   "source": [
    "def isUnique(string1):\n",
    "    characs=[]\n",
    "    for i in range(128):\n",
    "        characs.append(False)\n",
    "        \n",
    "    for j in range(len(string1)):\n",
    "        if (characs[ord(string1[j])] == False):\n",
    "            characs[ord(string1[j])] = True\n",
    "        else:\n",
    "            return False\n",
    "    return True"
   ]
  },
  {
   "cell_type": "code",
   "execution_count": 29,
   "metadata": {},
   "outputs": [
    {
     "data": {
      "text/plain": [
       "True"
      ]
     },
     "execution_count": 29,
     "metadata": {},
     "output_type": "execute_result"
    }
   ],
   "source": [
    "isUnique('alumni')"
   ]
  },
  {
   "cell_type": "code",
   "execution_count": 30,
   "metadata": {},
   "outputs": [
    {
     "data": {
      "text/plain": [
       "True"
      ]
     },
     "execution_count": 30,
     "metadata": {},
     "output_type": "execute_result"
    }
   ],
   "source": [
    "isUnique('Ahmad')"
   ]
  },
  {
   "cell_type": "markdown",
   "metadata": {},
   "source": [
    "## Takeouts\n",
    "### ord() - coverts character to Ascii \n",
    "### char() - converst Ascii to character"
   ]
  },
  {
   "cell_type": "code",
   "execution_count": 32,
   "metadata": {},
   "outputs": [],
   "source": [
    "def isUnique2(string1):\n",
    "    characs=[]\n",
    "    for i in range(128):\n",
    "        characs.append(False)\n",
    "        \n",
    "    for j in range(len(string1)):\n",
    "        if (characs[ord(string1[j])] == False):\n",
    "            if ((ord(string1[j])>=65 and ord(string1[j])<=90)):\n",
    "                characs[ord(string1[j])+32] = True\n",
    "            if ((ord(string1[j])>=97 and ord(string1[j])<=122)):\n",
    "                characs[ord(string1[j])-32] = True\n",
    "            characs[ord(string1[j])] = True\n",
    "        else:\n",
    "            return False\n",
    "    return True"
   ]
  },
  {
   "cell_type": "markdown",
   "metadata": {},
   "source": [
    "### Issue #1 \n",
    "Until now the Ahmad is treated as Unique as **'A'** and **'a'** are different ACII characters.\n",
    "**Improvise the function as 'Ahmad' is declared not Unique-**\n",
    "<br>\n",
    "--**Solved**--"
   ]
  },
  {
   "cell_type": "code",
   "execution_count": null,
   "metadata": {},
   "outputs": [],
   "source": []
  }
 ],
 "metadata": {
  "kernelspec": {
   "display_name": "Python 3",
   "language": "python",
   "name": "python3"
  },
  "language_info": {
   "codemirror_mode": {
    "name": "ipython",
    "version": 3
   },
   "file_extension": ".py",
   "mimetype": "text/x-python",
   "name": "python",
   "nbconvert_exporter": "python",
   "pygments_lexer": "ipython3",
   "version": "3.6.4"
  }
 },
 "nbformat": 4,
 "nbformat_minor": 2
}
