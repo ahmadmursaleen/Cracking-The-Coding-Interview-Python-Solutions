{
 "cells": [
  {
   "cell_type": "markdown",
   "metadata": {},
   "source": [
    "# 1.1 Implement an algorithm to find out if all the characters in a string are unique or not ?\n"
   ]
  },
  {
   "cell_type": "markdown",
   "metadata": {},
   "source": [
    "## Lets us assume that the string is in ASCII characters i.e. 128 charcters "
   ]
  },
  {
   "cell_type": "code",
   "execution_count": 19,
   "metadata": {},
   "outputs": [],
   "source": [
    "def isUnique(string1):\n",
    "    characs=[]\n",
    "    for i in range(128):\n",
    "        characs.append(False)\n",
    "        \n",
    "    for j in range(len(string1)):\n",
    "        if (characs[ord(string1[j])] == False):\n",
    "            characs[ord(string1[j])] = True\n",
    "        else:\n",
    "            return False\n",
    "    return True"
   ]
  },
  {
   "cell_type": "code",
   "execution_count": 29,
   "metadata": {},
   "outputs": [
    {
     "data": {
      "text/plain": [
       "True"
      ]
     },
     "execution_count": 29,
     "metadata": {},
     "output_type": "execute_result"
    }
   ],
   "source": [
    "isUnique('alumni')"
   ]
  },
  {
   "cell_type": "code",
   "execution_count": 30,
   "metadata": {},
   "outputs": [
    {
     "data": {
      "text/plain": [
       "True"
      ]
     },
     "execution_count": 30,
     "metadata": {},
     "output_type": "execute_result"
    }
   ],
   "source": [
    "isUnique('Ahmad')"
   ]
  },
  {
   "cell_type": "markdown",
   "metadata": {},
   "source": [
    "## Takeouts\n",
    "### ord() - coverts character to Ascii \n",
    "### char() - converst Ascii to character"
   ]
  },
  {
   "cell_type": "code",
   "execution_count": 32,
   "metadata": {},
   "outputs": [],
   "source": [
    "def isUnique2(string1):\n",
    "    characs=[]\n",
    "    for i in range(128):\n",
    "        characs.append(False)\n",
    "        \n",
    "    for j in range(len(string1)):\n",
    "        if (characs[ord(string1[j])] == False):\n",
    "            if ((ord(string1[j])>=65 and ord(string1[j])<=90)):\n",
    "                characs[ord(string1[j])+32] = True\n",
    "            if ((ord(string1[j])>=97 and ord(string1[j])<=122)):\n",
    "                characs[ord(string1[j])-32] = True\n",
    "            characs[ord(string1[j])] = True\n",
    "        else:\n",
    "            return False\n",
    "    return True"
   ]
  },
  {
   "cell_type": "markdown",
   "metadata": {},
   "source": [
    "### Issue #1 \n",
    "Until now the Ahmad is treated as Unique as **'A'** and **'a'** are different ACII characters.\n",
    "**Improvise the function as 'Ahmad' is declared not Unique-**\n",
    "<br>\n",
    "--**Solved**--"
   ]
  },
  {
   "cell_type": "markdown",
   "metadata": {},
   "source": [
    "# 1.2 check if two strings are permutation of each other "
   ]
  },
  {
   "cell_type": "code",
   "execution_count": 10,
   "metadata": {},
   "outputs": [],
   "source": [
    "def isPerm(string1, string2):\n",
    "    if (len(string1) != len(string2)):\n",
    "        return False\n",
    "    for i in range(len(string1)):\n",
    "        j = len(string1)-i-1\n",
    "        print(\"i,j,val1,val2\",i,j,string1[i],string2[j])\n",
    "        if(string1[i] != string2[j]):\n",
    "            return False\n",
    "    return True\n",
    "    "
   ]
  },
  {
   "cell_type": "code",
   "execution_count": 11,
   "metadata": {},
   "outputs": [
    {
     "name": "stdout",
     "output_type": "stream",
     "text": [
      "i,j,val1,val2 0 5 h h\n",
      "i,j,val1,val2 1 4 e E\n"
     ]
    },
    {
     "data": {
      "text/plain": [
       "False"
      ]
     },
     "execution_count": 11,
     "metadata": {},
     "output_type": "execute_result"
    }
   ],
   "source": [
    "isPerm(\"helloJ\",\"jollEh\")"
   ]
  },
  {
   "cell_type": "markdown",
   "metadata": {},
   "source": [
    "# Issue 2\n",
    "### further improvise to take into account the capitalizations"
   ]
  },
  {
   "cell_type": "code",
   "execution_count": 12,
   "metadata": {},
   "outputs": [],
   "source": [
    "def isPerm2(string1, string2):\n",
    "    if (len(string1) != len(string2)):\n",
    "        return False\n",
    "    for i in range(len(string1)):\n",
    "        j = len(string1)-i-1\n",
    "        print(\"i,j,val1,val2\",i,j,string1[i],string2[j])\n",
    "        if(string1[i] != string2[j]):\n",
    "            if((ord(string1[i]) == (ord(string2[j]) + 32)) or (ord(string1[i]) == (ord(string2[j]) - 32)) ):\n",
    "                continue\n",
    "            return False\n",
    "    return True"
   ]
  },
  {
   "cell_type": "code",
   "execution_count": 13,
   "metadata": {},
   "outputs": [
    {
     "name": "stdout",
     "output_type": "stream",
     "text": [
      "i,j,val1,val2 0 5 h h\n",
      "i,j,val1,val2 1 4 e E\n",
      "i,j,val1,val2 2 3 l l\n",
      "i,j,val1,val2 3 2 l l\n",
      "i,j,val1,val2 4 1 o o\n",
      "i,j,val1,val2 5 0 J j\n"
     ]
    },
    {
     "data": {
      "text/plain": [
       "True"
      ]
     },
     "execution_count": 13,
     "metadata": {},
     "output_type": "execute_result"
    }
   ],
   "source": [
    "isPerm2(\"helloJ\",\"jollEh\")"
   ]
  },
  {
   "cell_type": "code",
   "execution_count": null,
   "metadata": {},
   "outputs": [],
   "source": []
  }
 ],
 "metadata": {
  "kernelspec": {
   "display_name": "Python 3",
   "language": "python",
   "name": "python3"
  },
  "language_info": {
   "codemirror_mode": {
    "name": "ipython",
    "version": 3
   },
   "file_extension": ".py",
   "mimetype": "text/x-python",
   "name": "python",
   "nbconvert_exporter": "python",
   "pygments_lexer": "ipython3",
   "version": "3.6.4"
  }
 },
 "nbformat": 4,
 "nbformat_minor": 2
}
